{
 "metadata": {
  "name": "Hi_seasBB_qgis"
 }, 
 "nbformat": 2, 
 "worksheets": [
  {
   "cells": [
    {
     "cell_type": "code", 
     "collapsed": true, 
     "input": [
      "import csv"
     ], 
     "language": "python", 
     "outputs": [], 
     "prompt_number": 1
    }, 
    {
     "cell_type": "code", 
     "collapsed": false, 
     "input": [
      "", 
      "with open('high_seasBB.csv') as data:", 
      "    for row in csv.DictReader(data):", 
      "        print row", 
      "        break"
     ], 
     "language": "python", 
     "outputs": [
      {
       "output_type": "stream", 
       "stream": "stdout", 
       "text": [
        "{'': '47', 'LME_NUMBER': '-96', 'ymax': '-45.0000003924835', 'FAO_codes': '48, 58, 88', 'LME_NAME': 'Subantarctic High Seas', 'centroid_y': '-64.3257671984103', 'centroid_x': '-8.79151301040948', 'xmax': '179.999999667638', 'x_min': '-179.999999667638', 'ymin': '-85.4702906995037'}"
       ]
      }
     ], 
     "prompt_number": 2
    }, 
    {
     "cell_type": "code", 
     "collapsed": false, 
     "input": [
      "import json", 
      "", 
      "geojson = { \"type\" : \"FeatureCollection\", \"features\" : [] }", 
      "features = []", 
      "", 
      "with open('high_seasBB.json', 'w') as out:", 
      "    with open('high_seasBB.csv') as data:", 
      "        for row in csv.DictReader(data):", 
      "            try:", 
      "                x0 = float(row['x_min'])", 
      "                y0 = float(row['ymin'])", 
      "                x1 = float(row['xmax'])", 
      "                y1 = float(row['ymax'])", 
      "                features.append({ ", 
      "                                 \"type\" : \"Feature\", ", 
      "                                 \"properties\" : row, ", 
      "                                 \"geometry\" : { ", 
      "                                               \"type\" : \"Polygon\", \"coordinates\" : [", 
      "      [ [x0, y0], [x1, y0], [x1, y1], [x0, y1], [x0, y0] ]", 
      "      ]} ", 
      "                                 })", 
      "            except ValueError:", 
      "                pass # ignore rows with NA", 
      "", 
      "    geojson['features'] = features", 
      "    json.dump(geojson, out, indent=4)", 
      "        "
     ], 
     "language": "python", 
     "outputs": [], 
     "prompt_number": 10
    }, 
    {
     "cell_type": "code", 
     "collapsed": true, 
     "input": [], 
     "language": "python", 
     "outputs": []
    }
   ]
  }
 ]
}